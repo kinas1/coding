{
 "cells": [
  {
   "cell_type": "code",
   "execution_count": 48,
   "metadata": {},
   "outputs": [
    {
     "name": "stdout",
     "output_type": "stream",
     "text": [
      "进行一致性检验的两个文件的路径分别为：\n",
      "\t C:/Users/xk21t/Desktop/a毕设/5.1_文件_更新/L14-2.xlsx\n",
      "\t C:/Users/xk21t/Desktop/a毕设/5.2_标注一致性检验/L14-2_check.xlsx\n",
      "L14-2 教学行为标注一致性检验的结果为：89.53%\n",
      "L14-2 教学环节标注一致性检验的结果为：100.00%\n"
     ]
    }
   ],
   "source": [
    "#kappa系数\n",
    "\n",
    "import pandas as pd\n",
    "#把excel传入python对象（列表）\n",
    "def excel_transfer(path):\n",
    "    df=pd.read_excel(path)#这个会直接默认读取到这个Excel的第一个表单\n",
    "    data = df.values#获取整个工作表数据\n",
    "    datah=[]\n",
    "    for d in data:\n",
    "        dh=[]\n",
    "        for i in d:\n",
    "            if type(i) == float and 0 < i < 19:\n",
    "                dh.append(int(i))\n",
    "            elif type(i) == float:\n",
    "                dh.append(100)#此处100表示无双重行为编码\n",
    "            else:\n",
    "                dh.append(i)\n",
    "        datah.append(dh)\n",
    "    return datah\n",
    "\n",
    "def check_output():\n",
    "    path1=input(\"请输入处理文件1的绝对路径(例如C:/Users/test.xlsx):\")\n",
    "    path2=input(\"请输入处理文件2的绝对路径(例如C:/Users/test.xlsx):\")\n",
    "    data1=excel_transfer(path1)\n",
    "    data2=excel_transfer(path2)\n",
    "    #分别检查行为和环节的还是一起检查？\n",
    "    ccx=0\n",
    "    cch=0\n",
    "\n",
    "    for i in range(len(data1)):\n",
    "        if data1[i][4]==data2[i][4] and data1[i][5]==data2[i][5]:\n",
    "            ccx+=1\n",
    "    for i in range(len(data1)):\n",
    "        if data1[i][6]==data2[i][6]:\n",
    "            cch+=1\n",
    "\n",
    "    check_x_result=ccx/len(data1)\n",
    "    check_h_result=cch/len(data1)\n",
    "    print(\"进行一致性检验的两个文件的路径分别为：\")\n",
    "    print(\"\\t\",path1)\n",
    "    print(\"\\t\",path2)\n",
    "    print(path1.split('/')[6].split('.')[0],\"教学行为标注一致性检验的结果为：{:.2%}\".format(check_x_result))\n",
    "    print(path1.split('/')[6].split('.')[0],\"教学环节标注一致性检验的结果为：{:.2%}\".format(check_h_result))\n",
    "\n",
    "check_output()"
   ]
  },
  {
   "cell_type": "markdown",
   "metadata": {},
   "source": [
    "C:/Users/xk21t/Desktop/a毕设/5.1_文件_更新/L14-1.xlsx\n",
    "C:/Users/xk21t/Desktop/a毕设/5.2_标注一致性检验/L14-1_check.xlsx\n",
    "\n",
    "C:/Users/xk21t/Desktop/a毕设/5.1_文件_更新/L14-2.xlsx\n",
    "C:/Users/xk21t/Desktop/a毕设/5.2_标注一致性检验/L14-2_check.xlsx\n",
    "\n",
    "C:/Users/xk21t/Desktop/a毕设/5.1_文件_更新/L20-1.xlsx\n",
    "C:/Users/xk21t/Desktop/a毕设/5.2_标注一致性检验/L20-1_check.xlsx\n",
    "\n",
    "C:/Users/xk21t/Desktop/a毕设/5.1_文件_更新/L20-2.xlsx\n",
    "C:/Users/xk21t/Desktop/a毕设/5.2_标注一致性检验/L20-2_check.xlsx\n",
    "\n",
    "C:/Users/xk21t/Desktop/a毕设/5.1_文件_更新/L21-1.xlsx\n",
    "C:/Users/xk21t/Desktop/a毕设/5.2_标注一致性检验/L21-1_check.xlsx\n",
    "\n",
    "C:/Users/xk21t/Desktop/a毕设/5.1_文件_更新/L21-2.xlsx\n",
    "C:/Users/xk21t/Desktop/a毕设/5.2_标注一致性检验/L21-2_check.xlsx\n",
    "\n",
    "C:/Users/xk21t/Desktop/a毕设/5.1_文件_更新/慕课27.xlsx\n",
    "C:/Users/xk21t/Desktop/a毕设/5.2_标注一致性检验/慕课27.xlsx\n",
    "\n",
    "C:/Users/xk21t/Desktop/a毕设/5.1_文件_更新/慕课28.xlsx\n",
    "C:/Users/xk21t/Desktop/a毕设/5.2_标注一致性检验/慕课28.xlsx"
   ]
  },
  {
   "cell_type": "code",
   "execution_count": null,
   "metadata": {},
   "outputs": [],
   "source": [
    "#kappa系数\n",
    "\n",
    "import pandas as pd\n",
    "#把excel传入python对象（列表）\n",
    "def excel_transfer(path):\n",
    "    df=pd.read_excel(path)#这个会直接默认读取到这个Excel的第一个表单\n",
    "    data = df.values#获取整个工作表数据\n",
    "    datah=[]\n",
    "    for d in data:\n",
    "        dh=[]\n",
    "        for i in d:\n",
    "            if type(i) == float and 0 < i < 19:\n",
    "                dh.append(int(i))\n",
    "            elif type(i) == float:\n",
    "                dh.append(100)#此处100表示无双重行为编码\n",
    "            else:\n",
    "                dh.append(i)\n",
    "        datah.append(dh)\n",
    "    return datah\n",
    "\n",
    "def check_output():\n",
    "    path1=input(\"请输入处理文件1的绝对路径(例如C:/Users/test.xlsx):\")\n",
    "    path2=input(\"请输入处理文件2的绝对路径(例如C:/Users/test.xlsx):\")\n",
    "    data1=excel_transfer(path1)\n",
    "    data2=excel_transfer(path2)\n",
    "    #分别检查行为和环节的还是一起检查？\n",
    "    ccx=0\n",
    "    cch=0\n",
    "\n",
    "    for i in range(len(data1)):\n",
    "        if data1[i][4]==data2[i][4] and data1[i][5]==data2[i][5]:\n",
    "            ccx+=1\n",
    "    for i in range(len(data1)):\n",
    "        if data1[i][6]==data2[i][6]:\n",
    "            cch+=1\n",
    "\n",
    "    check_x_result=ccx/len(data1)\n",
    "    check_h_result=cch/len(data1)\n",
    "    print(\"进行一致性检验的两个文件的路径分别为：\")\n",
    "    print(\"\\t\",path1)\n",
    "    print(\"\\t\",path2)\n",
    "    print(path1.split('/')[6].split('.')[0],\"教学行为标注一致性检验的结果为：{:.2%}\".format(check_x_result))\n",
    "    print(path1.split('/')[6].split('.')[0],\"教学环节标注一致性检验的结果为：{:.2%}\".format(check_h_result))"
   ]
  },
  {
   "cell_type": "code",
   "execution_count": 52,
   "metadata": {},
   "outputs": [
    {
     "name": "stdout",
     "output_type": "stream",
     "text": [
      "[1, '闻亭老师', '00:07', '大家早上好。', 1, 100, 19]\n",
      "1100\n"
     ]
    }
   ],
   "source": [
    "print(data1[0])\n",
    "print(data1[0][4]*1000+data1[0][5])"
   ]
  },
  {
   "cell_type": "code",
   "execution_count": null,
   "metadata": {},
   "outputs": [],
   "source": [
    "#写一个矩阵，看分类\n",
    "def merge_columns(data1,data2):\n",
    "    d1=[]\n",
    "    d2=[]\n",
    "    for d in data1:\n",
    "        d1=d[4]*1000+d[5]"
   ]
  }
 ],
 "metadata": {
  "kernelspec": {
   "display_name": "base",
   "language": "python",
   "name": "python3"
  },
  "language_info": {
   "codemirror_mode": {
    "name": "ipython",
    "version": 3
   },
   "file_extension": ".py",
   "mimetype": "text/x-python",
   "name": "python",
   "nbconvert_exporter": "python",
   "pygments_lexer": "ipython3",
   "version": "3.9.19"
  }
 },
 "nbformat": 4,
 "nbformat_minor": 2
}
