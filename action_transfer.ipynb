{
 "cells": [
  {
   "cell_type": "code",
   "execution_count": 1,
   "id": "4d340efd",
   "metadata": {},
   "outputs": [],
   "source": [
    "import xlrd\n",
    "import xlwt\n",
    "import pandas as pd\n",
    "import numpy as np\n",
    "from openpyxl import load_workbook\n",
    "import openpyxl"
   ]
  },
  {
   "cell_type": "code",
   "execution_count": 5,
   "id": "ffac1238",
   "metadata": {},
   "outputs": [],
   "source": [
    "#把行为表转移成字典\n",
    "def made_matrix(df):\n",
    "    #df==pd.read_excel(r'路径')#这个会直接默认读取到这个Excel的第一个表单\n",
    "    data=[]\n",
    "    for i in range(0,len(df)):\n",
    "        r_data=df.iloc[i].values\n",
    "        rd=[]\n",
    "        for j in range(0,len(r_data)):\n",
    "            if 0< r_data[j] <19:            \n",
    "                rd.append(int(np.int64(r_data[j])))\n",
    "        data.append(rd)\n",
    "    return data"
   ]
  },
  {
   "cell_type": "code",
   "execution_count": 6,
   "id": "e4bb55ab",
   "metadata": {},
   "outputs": [],
   "source": [
    "#做出行为转移矩阵\n",
    "def make_matrix(data):\n",
    "    at_matrix={}\n",
    "    for i in range(1,19):\n",
    "        at_matrix[i]={}\n",
    "        for j in range(1,19):\n",
    "            at_matrix[i][j]=0\n",
    "    #print(at_matrix)\n",
    "    for i in range(0,len(data)-1):\n",
    "        for j in range(0,len(data[i])):\n",
    "            r=data[i][j]\n",
    "            for k in range(0,len(data[i+1])):\n",
    "                c=data[i+1][k]\n",
    "                at_matrix[r][c]+=1\n",
    "    return at_matrix"
   ]
  },
  {
   "cell_type": "code",
   "execution_count": 7,
   "id": "9e2c0b8b",
   "metadata": {},
   "outputs": [],
   "source": [
    "#输出行为转移矩阵\n",
    "def print_matrix(at_matrix):\n",
    "    print('  ',end='')\n",
    "    for i in range(1,19):\n",
    "        print('',\"%3d\"%i,end='')\n",
    "    for i in range(1,19):    \n",
    "        print('\\n',\"%2d\"%i,end='')\n",
    "        for j in range(1,19):\n",
    "            print(\"\",\"%3d\"%at_matrix[i][j],end='')"
   ]
  },
  {
   "cell_type": "code",
   "execution_count": 8,
   "id": "8e57f937",
   "metadata": {},
   "outputs": [],
   "source": [
    "#导出行为转移矩阵excel\n",
    "def export_excel(at_matrix,output_name):\n",
    "    r_data=[]\n",
    "    for i in range(1,19):\n",
    "        r_data.append(at_matrix[i])\n",
    "    #将字典列表转换为DataFrame\n",
    "    pf = pd.DataFrame(list(r_data))\n",
    "    #指定字段顺序\n",
    "    order = []\n",
    "    for i in range(1,19):\n",
    "        order.append(i)\n",
    "    pf = pf[order]\n",
    " \n",
    "   #指定生成的Excel表格名称\n",
    "    file_path = pd.ExcelWriter(output_name)\n",
    "   #输出\n",
    "    pf.to_excel(file_path,encoding = 'utf-8',index = False)\n",
    "    #保存表格\n",
    "    file_path.save()"
   ]
  },
  {
   "cell_type": "code",
   "execution_count": 13,
   "id": "8e43a0ea",
   "metadata": {},
   "outputs": [],
   "source": [
    "#L14-1的行为转移矩阵\n",
    "df_14_1=pd.read_excel(r'C:\\Users\\xk21t\\Desktop\\a毕设\\6_数据预处理\\L14-1行为转移矩阵表.xlsx')\n",
    "data_14_1=made_matrix(df_14_1)\n",
    "at_matrix_14_1=make_matrix(data_14_1)\n",
    "#print_matrix(at_matrix)\n",
    "o_14_1_name='C:/Users/xk21t/Desktop/a毕设/6_数据预处理/L14_1行为转移矩阵.xlsx'\n",
    "export_excel(at_matrix_14_1,o_14_1_name)#导出转移矩阵"
   ]
  },
  {
   "cell_type": "code",
   "execution_count": 14,
   "id": "ca74b3b4",
   "metadata": {},
   "outputs": [],
   "source": [
    "#L14-2的行为转移矩阵\n",
    "df_14_2=pd.read_excel(r'C:\\Users\\xk21t\\Desktop\\a毕设\\6_数据预处理\\L14-2行为转移矩阵表.xlsx')\n",
    "data_14_2=made_matrix(df_14_2)\n",
    "at_matrix_14_2=make_matrix(data_14_2)\n",
    "#print_matrix(at_matrix)\n",
    "o_14_2_name='C:/Users/xk21t/Desktop/a毕设/6_数据预处理/L14_2行为转移矩阵.xlsx'\n",
    "export_excel(at_matrix_14_2,o_14_2_name)#导出转移矩阵"
   ]
  },
  {
   "cell_type": "code",
   "execution_count": null,
   "id": "eaa90b2e",
   "metadata": {},
   "outputs": [],
   "source": []
  }
 ],
 "metadata": {
  "kernelspec": {
   "display_name": "Python 3 (ipykernel)",
   "language": "python",
   "name": "python3"
  },
  "language_info": {
   "codemirror_mode": {
    "name": "ipython",
    "version": 3
   },
   "file_extension": ".py",
   "mimetype": "text/x-python",
   "name": "python",
   "nbconvert_exporter": "python",
   "pygments_lexer": "ipython3",
   "version": "3.9.7"
  }
 },
 "nbformat": 4,
 "nbformat_minor": 5
}
